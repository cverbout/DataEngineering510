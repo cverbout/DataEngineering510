{
  "nbformat": 4,
  "nbformat_minor": 0,
  "metadata": {
    "colab": {
      "provenance": []
    },
    "kernelspec": {
      "name": "python3",
      "display_name": "Python 3"
    },
    "language_info": {
      "name": "python"
    }
  },
  "cells": [
    {
      "cell_type": "code",
      "execution_count": 1,
      "metadata": {
        "id": "cm1gLL2B2JdX"
      },
      "outputs": [],
      "source": [
        "import requests\n",
        "import json\n",
        "import datetime\n",
        "from datetime import datetime, timedelta"
      ]
    },
    {
      "cell_type": "code",
      "source": [
        "api_key = 'd5bef28b992f5cae3668c6d11562142d'\n",
        "base_url = 'http://api.openweathermap.org/data/2.5/weather?'\n",
        "city_name = 'Portland'\n",
        "\n",
        "complete_url = base_url + 'appid=' + api_key + '&q=' + city_name\n",
        "print(complete_url)\n",
        "response = requests.get(complete_url)\n",
        "\n",
        "x = response.json()\n",
        "print(x)"
      ],
      "metadata": {
        "colab": {
          "base_uri": "https://localhost:8080/"
        },
        "id": "pYEXbyjr3jQO",
        "outputId": "f1dc03cb-b825-4fef-ecc6-e07e7a54fb79"
      },
      "execution_count": 2,
      "outputs": [
        {
          "output_type": "stream",
          "name": "stdout",
          "text": [
            "http://api.openweathermap.org/data/2.5/weather?appid=d5bef28b992f5cae3668c6d11562142d&q=Portland\n",
            "{'coord': {'lon': -122.6762, 'lat': 45.5234}, 'weather': [{'id': 800, 'main': 'Clear', 'description': 'clear sky', 'icon': '01d'}], 'base': 'stations', 'main': {'temp': 288.96, 'feels_like': 288.24, 'temp_min': 286.93, 'temp_max': 290.89, 'pressure': 1007, 'humidity': 63}, 'visibility': 10000, 'wind': {'speed': 4.63, 'deg': 300}, 'clouds': {'all': 0}, 'dt': 1712950186, 'sys': {'type': 2, 'id': 2008548, 'country': 'US', 'sunrise': 1712928554, 'sunset': 1712976777}, 'timezone': -25200, 'id': 5746545, 'name': 'Portland', 'cod': 200}\n"
          ]
        }
      ]
    },
    {
      "cell_type": "code",
      "source": [
        "def isItRainingNow(city_name):\n",
        "    base_url = 'http://api.openweathermap.org/data/2.5/weather?'\n",
        "    x = requests.get(base_url + 'appid=' + api_key + '&q=' + city_name).json()\n",
        "    weather = x['weather'][0]['main']\n",
        "    if weather == 'Rain':\n",
        "        print('It is raining')\n",
        "        return True\n",
        "    else:\n",
        "        print('It is not raining')\n",
        "        return False"
      ],
      "metadata": {
        "id": "01CyqNli45NK"
      },
      "execution_count": 3,
      "outputs": []
    },
    {
      "cell_type": "code",
      "source": [
        "city_name = 'Portland'\n",
        "isItRainingNow(city_name)"
      ],
      "metadata": {
        "colab": {
          "base_uri": "https://localhost:8080/"
        },
        "id": "srRmrZ7uJFya",
        "outputId": "3081ee09-3fc8-4690-ab33-994013106631"
      },
      "execution_count": 4,
      "outputs": [
        {
          "output_type": "stream",
          "name": "stdout",
          "text": [
            "It is not raining\n"
          ]
        },
        {
          "output_type": "execute_result",
          "data": {
            "text/plain": [
              "False"
            ]
          },
          "metadata": {},
          "execution_count": 4
        }
      ]
    },
    {
      "cell_type": "code",
      "source": [
        "\n",
        "def isItRainingThen(city_name, days_from_now):\n",
        "  base_url = 'http://api.openweathermap.org/data/2.5/forecast?'\n",
        "  x = requests.get(base_url + '&q=' + city_name + '&appid=' + api_key).json()\n",
        "  forecast = []\n",
        "  future = datetime.now() + timedelta(days=days_from_now)\n",
        "  for entry in x['list']:\n",
        "     date_obj = datetime.strptime(entry['dt_txt'], '%Y-%m-%d %H:%M:%S')\n",
        "     if date_obj.day == future.day:\n",
        "        forecast.append(entry)\n",
        "  for interval in forecast:\n",
        "    if interval['weather'][0]['main'] == 'Rain':\n",
        "      print('It will rain at some point')\n",
        "      return True\n",
        "\n",
        "  print('It will not rain')\n",
        "  return False"
      ],
      "metadata": {
        "id": "VkBsRMQnAs0s"
      },
      "execution_count": 5,
      "outputs": []
    },
    {
      "cell_type": "code",
      "source": [
        "days_from_now = 3\n",
        "city_name = 'Portland'\n",
        "isItRainingThen(city_name, days_from_now)"
      ],
      "metadata": {
        "colab": {
          "base_uri": "https://localhost:8080/"
        },
        "id": "k_ao9xKiJMT9",
        "outputId": "e9102cd8-82dc-4bd6-db4f-060c5402a2c0"
      },
      "execution_count": 7,
      "outputs": [
        {
          "output_type": "stream",
          "name": "stdout",
          "text": [
            "It will not rain\n"
          ]
        },
        {
          "output_type": "execute_result",
          "data": {
            "text/plain": [
              "False"
            ]
          },
          "metadata": {},
          "execution_count": 7
        }
      ]
    }
  ]
}